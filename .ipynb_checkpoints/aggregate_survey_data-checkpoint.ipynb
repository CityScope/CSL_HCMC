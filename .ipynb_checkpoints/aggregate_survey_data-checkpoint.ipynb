{
 "cells": [
  {
   "cell_type": "code",
   "execution_count": 1,
   "metadata": {},
   "outputs": [],
   "source": [
    "import pandas as pd\n",
    "from collections import Counter"
   ]
  },
  {
   "cell_type": "code",
   "execution_count": 22,
   "metadata": {},
   "outputs": [],
   "source": [
    "SURVEY_LOCATION='../../Data/Bản sao của data HIDS.xlsx'\n",
    "householders=pd.read_excel(SURVEY_LOCATION, sheet_name='Form_01(Householdhead)', header=3)\n",
    "all_members=pd.read_excel(SURVEY_LOCATION, sheet_name='Form_02（ALLmember）', header=3)"
   ]
  },
  {
   "cell_type": "markdown",
   "metadata": {},
   "source": [
    "Drop the first row under the header row"
   ]
  },
  {
   "cell_type": "code",
   "execution_count": 23,
   "metadata": {},
   "outputs": [],
   "source": [
    "householders=householders.drop(0, axis=0)\n",
    "all_members=all_members.drop(0, axis=0)"
   ]
  },
  {
   "cell_type": "code",
   "execution_count": 16,
   "metadata": {},
   "outputs": [],
   "source": [
    "rename_cols_hh={'Q14.Tổng thu nhập hàng tháng của hộ gia đình là bao nhiêu (VNĐ/tháng)?': 'hh_income',\n",
    "                'Q4.Địa chỉ nhà': 'home_address'}\n",
    "rename_cols_all={'Q29.Chỉ những người thuộc từ mục 1-10 của câu 28 mới trả lời, Lĩnh vực nghê nghiệp': 'career',\n",
    "                 'Q33.Chỉ những người thuộc từ mục 1-12 của Q28 (nghĩa là đang đi học hoặc đi làm) thì mới trả lời, Địa chỉ nơi làm việc/ trường học?': 'work_school_address'}"
   ]
  },
  {
   "cell_type": "code",
   "execution_count": 24,
   "metadata": {},
   "outputs": [],
   "source": [
    "householders=householders.rename(columns=rename_cols_hh)\n",
    "all_members=all_members.rename(columns=rename_cols_all)"
   ]
  },
  {
   "cell_type": "markdown",
   "metadata": {},
   "source": [
    "# Perform Aggregations"
   ]
  },
  {
   "cell_type": "code",
   "execution_count": 20,
   "metadata": {},
   "outputs": [],
   "source": [
    "by_home_area_income=householders.groupby(['home_address', 'hh_income']).size()"
   ]
  },
  {
   "cell_type": "code",
   "execution_count": 21,
   "metadata": {},
   "outputs": [
    {
     "data": {
      "text/plain": [
       "home_address  hh_income\n",
       "1             1.0           1\n",
       "              7.0           6\n",
       "              8.0          12\n",
       "              9.0          12\n",
       "              10.0         13\n",
       "                           ..\n",
       "265           10.0         34\n",
       "              11.0         13\n",
       "              12.0          9\n",
       "              14.0          1\n",
       "275           9.0           1\n",
       "Length: 2055, dtype: int64"
      ]
     },
     "execution_count": 21,
     "metadata": {},
     "output_type": "execute_result"
    }
   ],
   "source": [
    "by_home_area_income"
   ]
  },
  {
   "cell_type": "code",
   "execution_count": 27,
   "metadata": {},
   "outputs": [],
   "source": [
    "by_work_area_field=all_members.groupby(['work_school_address', 'career']).size()"
   ]
  },
  {
   "cell_type": "code",
   "execution_count": 28,
   "metadata": {},
   "outputs": [
    {
     "data": {
      "text/plain": [
       "work_school_address  career\n",
       "1                    1.0        5\n",
       "                     2.0       10\n",
       "                     3.0       12\n",
       "                     4.0       19\n",
       "                     5.0        5\n",
       "                               ..\n",
       "292                  4.0        1\n",
       "298                  7.0        1\n",
       "                     9.0        1\n",
       "304                  6.0        1\n",
       "311                  10.0       1\n",
       "Length: 2381, dtype: int64"
      ]
     },
     "execution_count": 28,
     "metadata": {},
     "output_type": "execute_result"
    }
   ],
   "source": [
    "by_work_area_field"
   ]
  },
  {
   "cell_type": "code",
   "execution_count": null,
   "metadata": {},
   "outputs": [],
   "source": []
  }
 ],
 "metadata": {
  "kernelspec": {
   "display_name": "Python 3",
   "language": "python",
   "name": "python3"
  },
  "language_info": {
   "codemirror_mode": {
    "name": "ipython",
    "version": 3
   },
   "file_extension": ".py",
   "mimetype": "text/x-python",
   "name": "python",
   "nbconvert_exporter": "python",
   "pygments_lexer": "ipython3",
   "version": "3.8.5"
  }
 },
 "nbformat": 4,
 "nbformat_minor": 4
}
