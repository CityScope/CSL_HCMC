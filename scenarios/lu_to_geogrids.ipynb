{
 "cells": [
  {
   "cell_type": "code",
   "execution_count": 1,
   "metadata": {},
   "outputs": [],
   "source": [
    "from brix.grid_maker import Grid_maker\n",
    "import geopandas as gpd\n",
    "import json"
   ]
  },
  {
   "cell_type": "code",
   "execution_count": 2,
   "metadata": {},
   "outputs": [],
   "source": [
    "s0_lu=gpd.read_file('../Data/GIS/Scenario0/Landuse_scenario_0/LandUse_0.shp')\n",
    "s2_lu=gpd.read_file('../Data/GIS/Scenario2/Landuse_scenario_2/LandUse_2.shp')\n",
    "s3_lu=gpd.read_file('../Data/GIS/Scenario3/Landuse_scenario_3/LandUse_3.shp')"
   ]
  },
  {
   "cell_type": "code",
   "execution_count": 3,
   "metadata": {},
   "outputs": [],
   "source": [
    "def abbreviate_type_name(name):\n",
    "    \"\"\"\n",
    "    Shorter type names for CityScope UI\"\"\"\n",
    "    return name.split(',')[0].split(' - ')[0].split(' (')[0].replace('\\n','').replace('\\r','').strip()"
   ]
  },
  {
   "cell_type": "markdown",
   "metadata": {},
   "source": [
    "#### Specify grid parameters"
   ]
  },
  {
   "cell_type": "code",
   "execution_count": 4,
   "metadata": {},
   "outputs": [],
   "source": [
    "table_name='hcmc_rd'\n",
    "top_left_lon=106.68353996851717\n",
    "top_left_lat=10.772585487816258\n",
    "rotation=-0.3151799175424706\n",
    "cell_size=71 \n",
    "ncols=66\n",
    "nrows=37"
   ]
  },
  {
   "cell_type": "markdown",
   "metadata": {},
   "source": [
    "#### Create grid object using cs-brix library"
   ]
  },
  {
   "cell_type": "code",
   "execution_count": 5,
   "metadata": {},
   "outputs": [
    {
     "name": "stdout",
     "output_type": "stream",
     "text": [
      "https://cityio.media.mit.edu/api/tables/list/ Attempt: 0\n",
      "Table hcmc_rd already exists\n",
      "Calculating initial coordinates of each cell\n"
     ]
    },
    {
     "name": "stderr",
     "output_type": "stream",
     "text": [
      "/Users/doorleyr/anaconda3/envs/brix/lib/python3.9/site-packages/brix/grid_maker.py:82: UserWarning: Table hcmc_rd already exists\n",
      "  warn(f'Table {self.table_name} already exists')\n"
     ]
    },
    {
     "name": "stdout",
     "output_type": "stream",
     "text": [
      "Defining properties and headers\n"
     ]
    }
   ],
   "source": [
    "grid=Grid_maker(table_name=table_name, top_left_lon=top_left_lon, top_left_lat=top_left_lat, \n",
    "                     rotation=rotation, cell_size=cell_size, ncols=ncols, nrows=nrows)"
   ]
  },
  {
   "cell_type": "markdown",
   "metadata": {},
   "source": [
    "#### Update default types to CSL_HCMC types"
   ]
  },
  {
   "cell_type": "code",
   "execution_count": 6,
   "metadata": {},
   "outputs": [
    {
     "name": "stdout",
     "output_type": "stream",
     "text": [
      "Generating grid geojson\n"
     ]
    }
   ],
   "source": [
    "types=json.load(open('../Data/Table/types.json'))\n",
    "grid.edit_types(types)"
   ]
  },
  {
   "cell_type": "markdown",
   "metadata": {},
   "source": [
    "#### Specify which cells are interactive\n",
    "interactive.geojson is a rough outline of the nteractive region of the site, created using geojson.io. Should be updated if it is nt accurate enough"
   ]
  },
  {
   "cell_type": "code",
   "execution_count": 7,
   "metadata": {},
   "outputs": [
    {
     "data": {
      "text/plain": [
       "array([ 697,  698,  699,  762,  763,  764,  765,  766,  828,  829,  830,\n",
       "        831,  832,  833,  895,  896,  897,  898,  899,  900,  961,  962,\n",
       "        963,  964,  965,  966,  967, 1028, 1029, 1030, 1031, 1032, 1033,\n",
       "       1034, 1095, 1096, 1097, 1098, 1099, 1100, 1101, 1102, 1163, 1164,\n",
       "       1165, 1166, 1167, 1168, 1169, 1170, 1231, 1232, 1233, 1234, 1235,\n",
       "       1236, 1237, 1238, 1299, 1300, 1301, 1302, 1303, 1304, 1305, 1306,\n",
       "       1366, 1367, 1368, 1369, 1370, 1371, 1372, 1373, 1374, 1434, 1435,\n",
       "       1436, 1437, 1438, 1439, 1440, 1441, 1502, 1503, 1504, 1505, 1506,\n",
       "       1507, 1570, 1571, 1572])"
      ]
     },
     "execution_count": 7,
     "metadata": {},
     "output_type": "execute_result"
    }
   ],
   "source": [
    "interactive=gpd.read_file('../Data/Table/interactive.geojson')\n",
    "grid_gpd=gpd.read_file(json.dumps(grid.get_grid_geojson()))\n",
    "interactive_over_grid=gpd.overlay(grid_gpd, interactive, how='intersection')\n",
    "int_cell_ids=interactive_over_grid['id'].unique()\n",
    "int_cell_ids"
   ]
  },
  {
   "cell_type": "markdown",
   "metadata": {},
   "source": [
    "#### Create the three GEOGRID and GEOGRIDDATA files"
   ]
  },
  {
   "cell_type": "code",
   "execution_count": 8,
   "metadata": {},
   "outputs": [],
   "source": [
    "lu_files={0: s0_lu, 2: s2_lu, 3: s3_lu}\n",
    "scenario_grids={}"
   ]
  },
  {
   "cell_type": "code",
   "execution_count": 9,
   "metadata": {},
   "outputs": [
    {
     "name": "stdout",
     "output_type": "stream",
     "text": [
      "0\n"
     ]
    },
    {
     "name": "stderr",
     "output_type": "stream",
     "text": [
      "<ipython-input-9-edd890829709>:11: UserWarning: Geometry is in a geographic CRS. Results from 'area' are likely incorrect. Use 'GeoSeries.to_crs()' to re-project geometries to a projected CRS before this operation.\n",
      "\n",
      "  lu_over_grid['area']=lu_over_grid.geometry.area\n"
     ]
    },
    {
     "name": "stdout",
     "output_type": "stream",
     "text": [
      "2\n"
     ]
    },
    {
     "name": "stderr",
     "output_type": "stream",
     "text": [
      "<ipython-input-9-edd890829709>:11: UserWarning: Geometry is in a geographic CRS. Results from 'area' are likely incorrect. Use 'GeoSeries.to_crs()' to re-project geometries to a projected CRS before this operation.\n",
      "\n",
      "  lu_over_grid['area']=lu_over_grid.geometry.area\n"
     ]
    },
    {
     "name": "stdout",
     "output_type": "stream",
     "text": [
      "3\n"
     ]
    },
    {
     "name": "stderr",
     "output_type": "stream",
     "text": [
      "<ipython-input-9-edd890829709>:11: UserWarning: Geometry is in a geographic CRS. Results from 'area' are likely incorrect. Use 'GeoSeries.to_crs()' to re-project geometries to a projected CRS before this operation.\n",
      "\n",
      "  lu_over_grid['area']=lu_over_grid.geometry.area\n"
     ]
    }
   ],
   "source": [
    "import copy\n",
    "for s in lu_files:\n",
    "    print(s)\n",
    "    scenario_lu=lu_files[s]\n",
    "    scenario_lu_wgs=scenario_lu.to_crs(\"EPSG:4326\")\n",
    "    grid_geojson=copy.deepcopy(grid.get_grid_geojson())\n",
    "    grid_gpd=gpd.read_file(json.dumps(grid_geojson))\n",
    "    lu_over_grid=gpd.overlay(scenario_lu_wgs, grid_gpd, 'intersection')   \n",
    "    \n",
    "    grid_to_type={}\n",
    "    lu_over_grid['area']=lu_over_grid.geometry.area\n",
    "    lu_over_grid=lu_over_grid.sort_values('area', ascending=True)\n",
    "    for ind, row in lu_over_grid.iterrows():\n",
    "        grid_to_type[row['id']]={'type': abbreviate_type_name(row['CSLLandTyp']), 'height': int(row['Storey'])}\n",
    "        \n",
    "    geogriddata=[]\n",
    "    for i_c, cell in enumerate(grid_geojson['features']):\n",
    "        assert i_c==cell['properties']['id']\n",
    "        if cell['properties']['id'] not in grid_to_type:\n",
    "            cs_type=\"None\"\n",
    "            height=0\n",
    "        else:\n",
    "            cs_type=grid_to_type[i_c]['type']\n",
    "            height=grid_to_type[i_c]['height']\n",
    "        if cell['properties']['id'] in int_cell_ids:\n",
    "            is_interactive='Web'\n",
    "        else:\n",
    "            is_interactive=False\n",
    "        color=types[cs_type]['color']\n",
    "        if is_interactive==False:\n",
    "            color[3]=100\n",
    "        else:\n",
    "            color[3]=200\n",
    "        grid_geojson['features'][i_c]['properties']['interactive']=is_interactive\n",
    "        grid_geojson['features'][i_c]['properties']['color']=color\n",
    "        grid_geojson['features'][i_c]['properties']['name']=cs_type\n",
    "        grid_geojson['features'][i_c]['properties']['height']=height\n",
    "\n",
    "        geogriddata.append({'color': color, 'height': height, 'id': i_c, 'name': cs_type, 'interactive': is_interactive})\n",
    "    scenario_grids[s]={'geogrid': grid_geojson, 'geogriddata': geogriddata}"
   ]
  },
  {
   "cell_type": "markdown",
   "metadata": {},
   "source": [
    "#### Save the results"
   ]
  },
  {
   "cell_type": "code",
   "execution_count": 10,
   "metadata": {},
   "outputs": [],
   "source": [
    "for s in scenario_grids:\n",
    "    json.dump(scenario_grids[s]['geogrid'], open('results/scenario_{}/geogrid_scenario_{}.geojson'.format(s, s), 'w'))\n",
    "    json.dump(scenario_grids[s]['geogriddata'], open('results/scenario_{}/geogrid_data_scenario_{}.json'.format(s, s), 'w'))"
   ]
  },
  {
   "cell_type": "code",
   "execution_count": null,
   "metadata": {},
   "outputs": [],
   "source": []
  }
 ],
 "metadata": {
  "kernelspec": {
   "display_name": "Python [conda env:brix]",
   "language": "python",
   "name": "conda-env-brix-py"
  },
  "language_info": {
   "codemirror_mode": {
    "name": "ipython",
    "version": 3
   },
   "file_extension": ".py",
   "mimetype": "text/x-python",
   "name": "python",
   "nbconvert_exporter": "python",
   "pygments_lexer": "ipython3",
   "version": "3.9.2"
  }
 },
 "nbformat": 4,
 "nbformat_minor": 4
}
