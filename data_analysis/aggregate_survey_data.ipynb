{
 "cells": [
  {
   "cell_type": "code",
   "execution_count": 1,
   "metadata": {},
   "outputs": [],
   "source": [
    "import pandas as pd\n",
    "from collections import Counter\n",
    "# import geopandas as gpd\n",
    "import numpy as np"
   ]
  },
  {
   "cell_type": "markdown",
   "metadata": {},
   "source": [
    "# Add aggregated demographic data to the shapefile of wards"
   ]
  },
  {
   "cell_type": "code",
   "execution_count": 3,
   "metadata": {},
   "outputs": [],
   "source": [
    "SURVEY_LOCATION='../../Data/Bản sao của data HIDS.xlsx'"
   ]
  },
  {
   "cell_type": "code",
   "execution_count": 4,
   "metadata": {},
   "outputs": [],
   "source": [
    "householders=pd.read_excel(SURVEY_LOCATION, sheet_name='Form_01(Householdhead)', header=3)\n",
    "all_members=pd.read_excel(SURVEY_LOCATION, sheet_name='Form_02（ALLmember）', header=3)\n",
    "# range_hh=pd.read_excel(SURVEY_LOCATION, sheet_name='Range(HouseholdHead)')\n",
    "# range_member=pd.read_excel(SURVEY_LOCATION, sheet_name='Range(AllMember)')"
   ]
  },
  {
   "cell_type": "code",
   "execution_count": 5,
   "metadata": {},
   "outputs": [],
   "source": [
    "# for q in range_hh['Question']:\n",
    "#     print(q)"
   ]
  },
  {
   "cell_type": "markdown",
   "metadata": {},
   "source": [
    "Drop the first row under the header row"
   ]
  },
  {
   "cell_type": "code",
   "execution_count": 6,
   "metadata": {},
   "outputs": [],
   "source": [
    "householders=householders.drop(0, axis=0)\n",
    "all_members=all_members.drop(0, axis=0)"
   ]
  },
  {
   "cell_type": "code",
   "execution_count": 7,
   "metadata": {},
   "outputs": [],
   "source": [
    "rename_cols_hh={'Q14.Tổng thu nhập hàng tháng của hộ gia đình là bao nhiêu (VNĐ/tháng)?': 'hh_income',\n",
    "                'Q4.Địa chỉ nhà': 'home_address'}\n",
    "rename_cols_all={'Q29.Chỉ những người thuộc từ mục 1-10 của câu 28 mới trả lời, Lĩnh vực nghê nghiệp': 'career',\n",
    "                 'Q33.Chỉ những người thuộc từ mục 1-12 của Q28 (nghĩa là đang đi học hoặc đi làm) thì mới trả lời, Địa chỉ nơi làm việc/ trường học?': 'work_school_address'}"
   ]
  },
  {
   "cell_type": "code",
   "execution_count": 8,
   "metadata": {},
   "outputs": [],
   "source": [
    "householders=householders.rename(columns=rename_cols_hh)\n",
    "all_members=all_members.rename(columns=rename_cols_all)"
   ]
  },
  {
   "cell_type": "code",
   "execution_count": null,
   "metadata": {},
   "outputs": [],
   "source": [
    "# income_group_totals=Counter(householders['hh_income'])\n",
    "# income_group_totals_ordered=[income_group_totals[float(i)] for i in range(1, 16)]\n",
    "# np.cumsum(income_group_totals_ordered)"
   ]
  },
  {
   "cell_type": "markdown",
   "metadata": {},
   "source": [
    "### Create dummys for the income and field columns"
   ]
  },
  {
   "cell_type": "code",
   "execution_count": 9,
   "metadata": {},
   "outputs": [],
   "source": [
    "income_dummys=pd.get_dummies(householders['hh_income'].astype('Int64'), prefix='income')\n",
    "career_dummys=pd.get_dummies(all_members['career'].astype('Int64'), prefix='career')"
   ]
  },
  {
   "cell_type": "markdown",
   "metadata": {},
   "source": [
    "Make the income categories roughly evenly sized"
   ]
  },
  {
   "cell_type": "code",
   "execution_count": 10,
   "metadata": {},
   "outputs": [],
   "source": [
    "by_income_totals=income_dummys.sum()"
   ]
  },
  {
   "cell_type": "code",
   "execution_count": 11,
   "metadata": {},
   "outputs": [
    {
     "data": {
      "text/plain": [
       "income_1     0.00440\n",
       "income_2     0.00485\n",
       "income_3     0.00540\n",
       "income_4     0.00705\n",
       "income_5     0.01140\n",
       "income_6     0.03450\n",
       "income_7     0.12490\n",
       "income_8     0.28920\n",
       "income_9     0.49750\n",
       "income_10    0.76340\n",
       "income_11    0.90520\n",
       "income_12    0.96035\n",
       "income_13    0.98255\n",
       "income_14    0.99445\n",
       "income_15    1.00000\n",
       "dtype: float64"
      ]
     },
     "execution_count": 11,
     "metadata": {},
     "output_type": "execute_result"
    }
   ],
   "source": [
    "import numpy as np\n",
    "np.cumsum(by_income_totals)/sum(by_income_totals)"
   ]
  },
  {
   "cell_type": "markdown",
   "metadata": {},
   "source": [
    "Income groups 1 to 8 are roughly the bottom quartile <br>\n",
    "Income groups 9 and 10 are 2nd and 3rd quartiles. <br>\n",
    "Income groups 11 to 15 are the top quartile <br>"
   ]
  },
  {
   "cell_type": "code",
   "execution_count": 12,
   "metadata": {},
   "outputs": [],
   "source": [
    "def get_income_quantiles(row):\n",
    "    if row['hh_income']<9:\n",
    "        row['res_income_1']=1\n",
    "    elif row['hh_income']==9:\n",
    "        row['res_income_2']=1\n",
    "    elif row['hh_income']==10:\n",
    "        row['res_income_3']=1\n",
    "    else:\n",
    "        row['res_income_4']=1\n",
    "    return row"
   ]
  },
  {
   "cell_type": "code",
   "execution_count": 13,
   "metadata": {},
   "outputs": [],
   "source": [
    "for i in range(1,5):\n",
    "    householders['res_income_{}'.format(i)]=0\n",
    "householders=householders.apply(lambda row: get_income_quantiles(row), axis=1)"
   ]
  },
  {
   "cell_type": "code",
   "execution_count": 14,
   "metadata": {},
   "outputs": [
    {
     "name": "stdout",
     "output_type": "stream",
     "text": [
      "0.2892\n",
      "0.2083\n",
      "0.2659\n",
      "0.2366\n"
     ]
    }
   ],
   "source": [
    "res_income_cols=['res_income_{}'.format(i) for i in range(1,5)]\n",
    "for col in res_income_cols:\n",
    "    print(householders[col].sum()/len(householders))"
   ]
  },
  {
   "cell_type": "code",
   "execution_count": 15,
   "metadata": {},
   "outputs": [],
   "source": [
    "for col in career_dummys.columns:\n",
    "    all_members[col]=career_dummys[col]"
   ]
  },
  {
   "cell_type": "markdown",
   "metadata": {},
   "source": [
    "## Perform Aggregations"
   ]
  },
  {
   "cell_type": "code",
   "execution_count": 16,
   "metadata": {},
   "outputs": [],
   "source": [
    "by_home_area_income=householders.groupby('home_address')[res_income_cols].sum()"
   ]
  },
  {
   "cell_type": "code",
   "execution_count": 17,
   "metadata": {},
   "outputs": [
    {
     "data": {
      "text/html": [
       "<div>\n",
       "<style scoped>\n",
       "    .dataframe tbody tr th:only-of-type {\n",
       "        vertical-align: middle;\n",
       "    }\n",
       "\n",
       "    .dataframe tbody tr th {\n",
       "        vertical-align: top;\n",
       "    }\n",
       "\n",
       "    .dataframe thead th {\n",
       "        text-align: right;\n",
       "    }\n",
       "</style>\n",
       "<table border=\"1\" class=\"dataframe\">\n",
       "  <thead>\n",
       "    <tr style=\"text-align: right;\">\n",
       "      <th></th>\n",
       "      <th>res_income_1</th>\n",
       "      <th>res_income_2</th>\n",
       "      <th>res_income_3</th>\n",
       "      <th>res_income_4</th>\n",
       "    </tr>\n",
       "    <tr>\n",
       "      <th>home_address</th>\n",
       "      <th></th>\n",
       "      <th></th>\n",
       "      <th></th>\n",
       "      <th></th>\n",
       "    </tr>\n",
       "  </thead>\n",
       "  <tbody>\n",
       "    <tr>\n",
       "      <th>1</th>\n",
       "      <td>19</td>\n",
       "      <td>12</td>\n",
       "      <td>13</td>\n",
       "      <td>15</td>\n",
       "    </tr>\n",
       "    <tr>\n",
       "      <th>2</th>\n",
       "      <td>2</td>\n",
       "      <td>5</td>\n",
       "      <td>12</td>\n",
       "      <td>21</td>\n",
       "    </tr>\n",
       "    <tr>\n",
       "      <th>3</th>\n",
       "      <td>3</td>\n",
       "      <td>2</td>\n",
       "      <td>2</td>\n",
       "      <td>3</td>\n",
       "    </tr>\n",
       "    <tr>\n",
       "      <th>4</th>\n",
       "      <td>3</td>\n",
       "      <td>2</td>\n",
       "      <td>2</td>\n",
       "      <td>3</td>\n",
       "    </tr>\n",
       "    <tr>\n",
       "      <th>5</th>\n",
       "      <td>2</td>\n",
       "      <td>1</td>\n",
       "      <td>0</td>\n",
       "      <td>7</td>\n",
       "    </tr>\n",
       "    <tr>\n",
       "      <th>...</th>\n",
       "      <td>...</td>\n",
       "      <td>...</td>\n",
       "      <td>...</td>\n",
       "      <td>...</td>\n",
       "    </tr>\n",
       "    <tr>\n",
       "      <th>258</th>\n",
       "      <td>65</td>\n",
       "      <td>33</td>\n",
       "      <td>42</td>\n",
       "      <td>18</td>\n",
       "    </tr>\n",
       "    <tr>\n",
       "      <th>263</th>\n",
       "      <td>16</td>\n",
       "      <td>14</td>\n",
       "      <td>16</td>\n",
       "      <td>40</td>\n",
       "    </tr>\n",
       "    <tr>\n",
       "      <th>264</th>\n",
       "      <td>65</td>\n",
       "      <td>47</td>\n",
       "      <td>40</td>\n",
       "      <td>17</td>\n",
       "    </tr>\n",
       "    <tr>\n",
       "      <th>265</th>\n",
       "      <td>11</td>\n",
       "      <td>14</td>\n",
       "      <td>34</td>\n",
       "      <td>23</td>\n",
       "    </tr>\n",
       "    <tr>\n",
       "      <th>275</th>\n",
       "      <td>0</td>\n",
       "      <td>1</td>\n",
       "      <td>0</td>\n",
       "      <td>0</td>\n",
       "    </tr>\n",
       "  </tbody>\n",
       "</table>\n",
       "<p>248 rows × 4 columns</p>\n",
       "</div>"
      ],
      "text/plain": [
       "              res_income_1  res_income_2  res_income_3  res_income_4\n",
       "home_address                                                        \n",
       "1                       19            12            13            15\n",
       "2                        2             5            12            21\n",
       "3                        3             2             2             3\n",
       "4                        3             2             2             3\n",
       "5                        2             1             0             7\n",
       "...                    ...           ...           ...           ...\n",
       "258                     65            33            42            18\n",
       "263                     16            14            16            40\n",
       "264                     65            47            40            17\n",
       "265                     11            14            34            23\n",
       "275                      0             1             0             0\n",
       "\n",
       "[248 rows x 4 columns]"
      ]
     },
     "execution_count": 17,
     "metadata": {},
     "output_type": "execute_result"
    }
   ],
   "source": [
    "by_home_area_income"
   ]
  },
  {
   "cell_type": "code",
   "execution_count": 18,
   "metadata": {},
   "outputs": [],
   "source": [
    "# by_work_area_field=all_members.groupby(['work_school_address', 'career']).size()\n",
    "by_work_area_field=all_members.groupby('work_school_address')[career_dummys.columns].sum()"
   ]
  },
  {
   "cell_type": "code",
   "execution_count": 19,
   "metadata": {},
   "outputs": [
    {
     "data": {
      "text/html": [
       "<div>\n",
       "<style scoped>\n",
       "    .dataframe tbody tr th:only-of-type {\n",
       "        vertical-align: middle;\n",
       "    }\n",
       "\n",
       "    .dataframe tbody tr th {\n",
       "        vertical-align: top;\n",
       "    }\n",
       "\n",
       "    .dataframe thead th {\n",
       "        text-align: right;\n",
       "    }\n",
       "</style>\n",
       "<table border=\"1\" class=\"dataframe\">\n",
       "  <thead>\n",
       "    <tr style=\"text-align: right;\">\n",
       "      <th></th>\n",
       "      <th>career_1</th>\n",
       "      <th>career_2</th>\n",
       "      <th>career_3</th>\n",
       "      <th>career_4</th>\n",
       "      <th>career_5</th>\n",
       "      <th>career_6</th>\n",
       "      <th>career_7</th>\n",
       "      <th>career_8</th>\n",
       "      <th>career_9</th>\n",
       "      <th>career_10</th>\n",
       "    </tr>\n",
       "    <tr>\n",
       "      <th>work_school_address</th>\n",
       "      <th></th>\n",
       "      <th></th>\n",
       "      <th></th>\n",
       "      <th></th>\n",
       "      <th></th>\n",
       "      <th></th>\n",
       "      <th></th>\n",
       "      <th></th>\n",
       "      <th></th>\n",
       "      <th></th>\n",
       "    </tr>\n",
       "  </thead>\n",
       "  <tbody>\n",
       "    <tr>\n",
       "      <th>1</th>\n",
       "      <td>5.0</td>\n",
       "      <td>10.0</td>\n",
       "      <td>12.0</td>\n",
       "      <td>19.0</td>\n",
       "      <td>5.0</td>\n",
       "      <td>12.0</td>\n",
       "      <td>16.0</td>\n",
       "      <td>12.0</td>\n",
       "      <td>9.0</td>\n",
       "      <td>55.0</td>\n",
       "    </tr>\n",
       "    <tr>\n",
       "      <th>2</th>\n",
       "      <td>2.0</td>\n",
       "      <td>23.0</td>\n",
       "      <td>16.0</td>\n",
       "      <td>56.0</td>\n",
       "      <td>11.0</td>\n",
       "      <td>20.0</td>\n",
       "      <td>35.0</td>\n",
       "      <td>10.0</td>\n",
       "      <td>15.0</td>\n",
       "      <td>65.0</td>\n",
       "    </tr>\n",
       "    <tr>\n",
       "      <th>3</th>\n",
       "      <td>1.0</td>\n",
       "      <td>11.0</td>\n",
       "      <td>20.0</td>\n",
       "      <td>46.0</td>\n",
       "      <td>15.0</td>\n",
       "      <td>43.0</td>\n",
       "      <td>34.0</td>\n",
       "      <td>8.0</td>\n",
       "      <td>19.0</td>\n",
       "      <td>99.0</td>\n",
       "    </tr>\n",
       "    <tr>\n",
       "      <th>4</th>\n",
       "      <td>2.0</td>\n",
       "      <td>17.0</td>\n",
       "      <td>5.0</td>\n",
       "      <td>47.0</td>\n",
       "      <td>7.0</td>\n",
       "      <td>25.0</td>\n",
       "      <td>22.0</td>\n",
       "      <td>3.0</td>\n",
       "      <td>12.0</td>\n",
       "      <td>58.0</td>\n",
       "    </tr>\n",
       "    <tr>\n",
       "      <th>5</th>\n",
       "      <td>0.0</td>\n",
       "      <td>12.0</td>\n",
       "      <td>9.0</td>\n",
       "      <td>28.0</td>\n",
       "      <td>6.0</td>\n",
       "      <td>17.0</td>\n",
       "      <td>19.0</td>\n",
       "      <td>2.0</td>\n",
       "      <td>9.0</td>\n",
       "      <td>62.0</td>\n",
       "    </tr>\n",
       "    <tr>\n",
       "      <th>...</th>\n",
       "      <td>...</td>\n",
       "      <td>...</td>\n",
       "      <td>...</td>\n",
       "      <td>...</td>\n",
       "      <td>...</td>\n",
       "      <td>...</td>\n",
       "      <td>...</td>\n",
       "      <td>...</td>\n",
       "      <td>...</td>\n",
       "      <td>...</td>\n",
       "    </tr>\n",
       "    <tr>\n",
       "      <th>292</th>\n",
       "      <td>0.0</td>\n",
       "      <td>1.0</td>\n",
       "      <td>0.0</td>\n",
       "      <td>1.0</td>\n",
       "      <td>0.0</td>\n",
       "      <td>0.0</td>\n",
       "      <td>0.0</td>\n",
       "      <td>0.0</td>\n",
       "      <td>0.0</td>\n",
       "      <td>0.0</td>\n",
       "    </tr>\n",
       "    <tr>\n",
       "      <th>293</th>\n",
       "      <td>0.0</td>\n",
       "      <td>0.0</td>\n",
       "      <td>0.0</td>\n",
       "      <td>0.0</td>\n",
       "      <td>0.0</td>\n",
       "      <td>0.0</td>\n",
       "      <td>0.0</td>\n",
       "      <td>0.0</td>\n",
       "      <td>0.0</td>\n",
       "      <td>0.0</td>\n",
       "    </tr>\n",
       "    <tr>\n",
       "      <th>298</th>\n",
       "      <td>0.0</td>\n",
       "      <td>0.0</td>\n",
       "      <td>0.0</td>\n",
       "      <td>0.0</td>\n",
       "      <td>0.0</td>\n",
       "      <td>0.0</td>\n",
       "      <td>1.0</td>\n",
       "      <td>0.0</td>\n",
       "      <td>1.0</td>\n",
       "      <td>0.0</td>\n",
       "    </tr>\n",
       "    <tr>\n",
       "      <th>304</th>\n",
       "      <td>0.0</td>\n",
       "      <td>0.0</td>\n",
       "      <td>0.0</td>\n",
       "      <td>0.0</td>\n",
       "      <td>0.0</td>\n",
       "      <td>1.0</td>\n",
       "      <td>0.0</td>\n",
       "      <td>0.0</td>\n",
       "      <td>0.0</td>\n",
       "      <td>0.0</td>\n",
       "    </tr>\n",
       "    <tr>\n",
       "      <th>311</th>\n",
       "      <td>0.0</td>\n",
       "      <td>0.0</td>\n",
       "      <td>0.0</td>\n",
       "      <td>0.0</td>\n",
       "      <td>0.0</td>\n",
       "      <td>0.0</td>\n",
       "      <td>0.0</td>\n",
       "      <td>0.0</td>\n",
       "      <td>0.0</td>\n",
       "      <td>1.0</td>\n",
       "    </tr>\n",
       "  </tbody>\n",
       "</table>\n",
       "<p>289 rows × 10 columns</p>\n",
       "</div>"
      ],
      "text/plain": [
       "                     career_1  career_2  career_3  career_4  career_5  \\\n",
       "work_school_address                                                     \n",
       "1                         5.0      10.0      12.0      19.0       5.0   \n",
       "2                         2.0      23.0      16.0      56.0      11.0   \n",
       "3                         1.0      11.0      20.0      46.0      15.0   \n",
       "4                         2.0      17.0       5.0      47.0       7.0   \n",
       "5                         0.0      12.0       9.0      28.0       6.0   \n",
       "...                       ...       ...       ...       ...       ...   \n",
       "292                       0.0       1.0       0.0       1.0       0.0   \n",
       "293                       0.0       0.0       0.0       0.0       0.0   \n",
       "298                       0.0       0.0       0.0       0.0       0.0   \n",
       "304                       0.0       0.0       0.0       0.0       0.0   \n",
       "311                       0.0       0.0       0.0       0.0       0.0   \n",
       "\n",
       "                     career_6  career_7  career_8  career_9  career_10  \n",
       "work_school_address                                                     \n",
       "1                        12.0      16.0      12.0       9.0       55.0  \n",
       "2                        20.0      35.0      10.0      15.0       65.0  \n",
       "3                        43.0      34.0       8.0      19.0       99.0  \n",
       "4                        25.0      22.0       3.0      12.0       58.0  \n",
       "5                        17.0      19.0       2.0       9.0       62.0  \n",
       "...                       ...       ...       ...       ...        ...  \n",
       "292                       0.0       0.0       0.0       0.0        0.0  \n",
       "293                       0.0       0.0       0.0       0.0        0.0  \n",
       "298                       0.0       1.0       0.0       1.0        0.0  \n",
       "304                       1.0       0.0       0.0       0.0        0.0  \n",
       "311                       0.0       0.0       0.0       0.0        1.0  \n",
       "\n",
       "[289 rows x 10 columns]"
      ]
     },
     "execution_count": 19,
     "metadata": {},
     "output_type": "execute_result"
    }
   ],
   "source": [
    "by_work_area_field"
   ]
  },
  {
   "cell_type": "markdown",
   "metadata": {},
   "source": [
    "### TODO: need number of people resident in each ward, not number of households. For now, just use a simple scaling factor for adults per household."
   ]
  },
  {
   "cell_type": "code",
   "execution_count": 20,
   "metadata": {},
   "outputs": [
    {
     "data": {
      "text/plain": [
       "1.7914"
      ]
     },
     "execution_count": 20,
     "metadata": {},
     "output_type": "execute_result"
    }
   ],
   "source": [
    "adults_per_hh=by_work_area_field.sum().sum()/by_home_area_income.sum().sum()\n",
    "adults_per_hh"
   ]
  },
  {
   "cell_type": "code",
   "execution_count": 21,
   "metadata": {},
   "outputs": [],
   "source": [
    "by_home_area_income*=adults_per_hh"
   ]
  },
  {
   "cell_type": "markdown",
   "metadata": {},
   "source": [
    "### Scale up survey data to actual population"
   ]
  },
  {
   "cell_type": "code",
   "execution_count": 13,
   "metadata": {},
   "outputs": [],
   "source": [
    "by_home_area_income*=100\n",
    "by_work_area_field*=100"
   ]
  },
  {
   "cell_type": "markdown",
   "metadata": {},
   "source": [
    "### Map to NAICS codes: https://www.naics.com/search/\n",
    "- TODO: revisit these with more precision. eg. career 6 seems to include retail as well as accommodation/food. career 10 should be a mix of multiple categories.'"
   ]
  },
  {
   "cell_type": "code",
   "execution_count": 22,
   "metadata": {},
   "outputs": [],
   "source": [
    "field_to_naics={'career_1': 'emp_naics_11',\n",
    "                'career_2': 'emp_naics_21',\n",
    "                'career_3': 'emp_naics_23',\n",
    "                'career_4': 'emp_naics_72',\n",
    "                'career_5': 'emp_naics_92',\n",
    "                'career_6': 'emp_naics_48-49',\n",
    "                'career_7': 'emp_naics_52',\n",
    "                'career_8': 'emp_naics_61',\n",
    "                'career_9': 'emp_naics_62',\n",
    "                'career_10': 'emp_naics_81'\n",
    "               }"
   ]
  },
  {
   "cell_type": "code",
   "execution_count": 23,
   "metadata": {},
   "outputs": [
    {
     "data": {
      "text/html": [
       "<div>\n",
       "<style scoped>\n",
       "    .dataframe tbody tr th:only-of-type {\n",
       "        vertical-align: middle;\n",
       "    }\n",
       "\n",
       "    .dataframe tbody tr th {\n",
       "        vertical-align: top;\n",
       "    }\n",
       "\n",
       "    .dataframe thead th {\n",
       "        text-align: right;\n",
       "    }\n",
       "</style>\n",
       "<table border=\"1\" class=\"dataframe\">\n",
       "  <thead>\n",
       "    <tr style=\"text-align: right;\">\n",
       "      <th></th>\n",
       "      <th>emp_naics_11</th>\n",
       "      <th>emp_naics_21</th>\n",
       "      <th>emp_naics_23</th>\n",
       "      <th>emp_naics_72</th>\n",
       "      <th>emp_naics_92</th>\n",
       "      <th>emp_naics_48-49</th>\n",
       "      <th>emp_naics_52</th>\n",
       "      <th>emp_naics_61</th>\n",
       "      <th>emp_naics_62</th>\n",
       "      <th>emp_naics_81</th>\n",
       "    </tr>\n",
       "    <tr>\n",
       "      <th>work_school_address</th>\n",
       "      <th></th>\n",
       "      <th></th>\n",
       "      <th></th>\n",
       "      <th></th>\n",
       "      <th></th>\n",
       "      <th></th>\n",
       "      <th></th>\n",
       "      <th></th>\n",
       "      <th></th>\n",
       "      <th></th>\n",
       "    </tr>\n",
       "  </thead>\n",
       "  <tbody>\n",
       "    <tr>\n",
       "      <th>1</th>\n",
       "      <td>5.0</td>\n",
       "      <td>10.0</td>\n",
       "      <td>12.0</td>\n",
       "      <td>19.0</td>\n",
       "      <td>5.0</td>\n",
       "      <td>12.0</td>\n",
       "      <td>16.0</td>\n",
       "      <td>12.0</td>\n",
       "      <td>9.0</td>\n",
       "      <td>55.0</td>\n",
       "    </tr>\n",
       "    <tr>\n",
       "      <th>2</th>\n",
       "      <td>2.0</td>\n",
       "      <td>23.0</td>\n",
       "      <td>16.0</td>\n",
       "      <td>56.0</td>\n",
       "      <td>11.0</td>\n",
       "      <td>20.0</td>\n",
       "      <td>35.0</td>\n",
       "      <td>10.0</td>\n",
       "      <td>15.0</td>\n",
       "      <td>65.0</td>\n",
       "    </tr>\n",
       "    <tr>\n",
       "      <th>3</th>\n",
       "      <td>1.0</td>\n",
       "      <td>11.0</td>\n",
       "      <td>20.0</td>\n",
       "      <td>46.0</td>\n",
       "      <td>15.0</td>\n",
       "      <td>43.0</td>\n",
       "      <td>34.0</td>\n",
       "      <td>8.0</td>\n",
       "      <td>19.0</td>\n",
       "      <td>99.0</td>\n",
       "    </tr>\n",
       "    <tr>\n",
       "      <th>4</th>\n",
       "      <td>2.0</td>\n",
       "      <td>17.0</td>\n",
       "      <td>5.0</td>\n",
       "      <td>47.0</td>\n",
       "      <td>7.0</td>\n",
       "      <td>25.0</td>\n",
       "      <td>22.0</td>\n",
       "      <td>3.0</td>\n",
       "      <td>12.0</td>\n",
       "      <td>58.0</td>\n",
       "    </tr>\n",
       "    <tr>\n",
       "      <th>5</th>\n",
       "      <td>0.0</td>\n",
       "      <td>12.0</td>\n",
       "      <td>9.0</td>\n",
       "      <td>28.0</td>\n",
       "      <td>6.0</td>\n",
       "      <td>17.0</td>\n",
       "      <td>19.0</td>\n",
       "      <td>2.0</td>\n",
       "      <td>9.0</td>\n",
       "      <td>62.0</td>\n",
       "    </tr>\n",
       "    <tr>\n",
       "      <th>...</th>\n",
       "      <td>...</td>\n",
       "      <td>...</td>\n",
       "      <td>...</td>\n",
       "      <td>...</td>\n",
       "      <td>...</td>\n",
       "      <td>...</td>\n",
       "      <td>...</td>\n",
       "      <td>...</td>\n",
       "      <td>...</td>\n",
       "      <td>...</td>\n",
       "    </tr>\n",
       "    <tr>\n",
       "      <th>292</th>\n",
       "      <td>0.0</td>\n",
       "      <td>1.0</td>\n",
       "      <td>0.0</td>\n",
       "      <td>1.0</td>\n",
       "      <td>0.0</td>\n",
       "      <td>0.0</td>\n",
       "      <td>0.0</td>\n",
       "      <td>0.0</td>\n",
       "      <td>0.0</td>\n",
       "      <td>0.0</td>\n",
       "    </tr>\n",
       "    <tr>\n",
       "      <th>293</th>\n",
       "      <td>0.0</td>\n",
       "      <td>0.0</td>\n",
       "      <td>0.0</td>\n",
       "      <td>0.0</td>\n",
       "      <td>0.0</td>\n",
       "      <td>0.0</td>\n",
       "      <td>0.0</td>\n",
       "      <td>0.0</td>\n",
       "      <td>0.0</td>\n",
       "      <td>0.0</td>\n",
       "    </tr>\n",
       "    <tr>\n",
       "      <th>298</th>\n",
       "      <td>0.0</td>\n",
       "      <td>0.0</td>\n",
       "      <td>0.0</td>\n",
       "      <td>0.0</td>\n",
       "      <td>0.0</td>\n",
       "      <td>0.0</td>\n",
       "      <td>1.0</td>\n",
       "      <td>0.0</td>\n",
       "      <td>1.0</td>\n",
       "      <td>0.0</td>\n",
       "    </tr>\n",
       "    <tr>\n",
       "      <th>304</th>\n",
       "      <td>0.0</td>\n",
       "      <td>0.0</td>\n",
       "      <td>0.0</td>\n",
       "      <td>0.0</td>\n",
       "      <td>0.0</td>\n",
       "      <td>1.0</td>\n",
       "      <td>0.0</td>\n",
       "      <td>0.0</td>\n",
       "      <td>0.0</td>\n",
       "      <td>0.0</td>\n",
       "    </tr>\n",
       "    <tr>\n",
       "      <th>311</th>\n",
       "      <td>0.0</td>\n",
       "      <td>0.0</td>\n",
       "      <td>0.0</td>\n",
       "      <td>0.0</td>\n",
       "      <td>0.0</td>\n",
       "      <td>0.0</td>\n",
       "      <td>0.0</td>\n",
       "      <td>0.0</td>\n",
       "      <td>0.0</td>\n",
       "      <td>1.0</td>\n",
       "    </tr>\n",
       "  </tbody>\n",
       "</table>\n",
       "<p>289 rows × 10 columns</p>\n",
       "</div>"
      ],
      "text/plain": [
       "                     emp_naics_11  emp_naics_21  emp_naics_23  emp_naics_72  \\\n",
       "work_school_address                                                           \n",
       "1                             5.0          10.0          12.0          19.0   \n",
       "2                             2.0          23.0          16.0          56.0   \n",
       "3                             1.0          11.0          20.0          46.0   \n",
       "4                             2.0          17.0           5.0          47.0   \n",
       "5                             0.0          12.0           9.0          28.0   \n",
       "...                           ...           ...           ...           ...   \n",
       "292                           0.0           1.0           0.0           1.0   \n",
       "293                           0.0           0.0           0.0           0.0   \n",
       "298                           0.0           0.0           0.0           0.0   \n",
       "304                           0.0           0.0           0.0           0.0   \n",
       "311                           0.0           0.0           0.0           0.0   \n",
       "\n",
       "                     emp_naics_92  emp_naics_48-49  emp_naics_52  \\\n",
       "work_school_address                                                \n",
       "1                             5.0             12.0          16.0   \n",
       "2                            11.0             20.0          35.0   \n",
       "3                            15.0             43.0          34.0   \n",
       "4                             7.0             25.0          22.0   \n",
       "5                             6.0             17.0          19.0   \n",
       "...                           ...              ...           ...   \n",
       "292                           0.0              0.0           0.0   \n",
       "293                           0.0              0.0           0.0   \n",
       "298                           0.0              0.0           1.0   \n",
       "304                           0.0              1.0           0.0   \n",
       "311                           0.0              0.0           0.0   \n",
       "\n",
       "                     emp_naics_61  emp_naics_62  emp_naics_81  \n",
       "work_school_address                                            \n",
       "1                            12.0           9.0          55.0  \n",
       "2                            10.0          15.0          65.0  \n",
       "3                             8.0          19.0          99.0  \n",
       "4                             3.0          12.0          58.0  \n",
       "5                             2.0           9.0          62.0  \n",
       "...                           ...           ...           ...  \n",
       "292                           0.0           0.0           0.0  \n",
       "293                           0.0           0.0           0.0  \n",
       "298                           0.0           1.0           0.0  \n",
       "304                           0.0           0.0           0.0  \n",
       "311                           0.0           0.0           1.0  \n",
       "\n",
       "[289 rows x 10 columns]"
      ]
     },
     "execution_count": 23,
     "metadata": {},
     "output_type": "execute_result"
    }
   ],
   "source": [
    "by_work_area_field=by_work_area_field.rename(columns=field_to_naics)\n",
    "by_work_area_field"
   ]
  },
  {
   "cell_type": "markdown",
   "metadata": {},
   "source": [
    "### Calculate Totals"
   ]
  },
  {
   "cell_type": "code",
   "execution_count": 24,
   "metadata": {},
   "outputs": [],
   "source": [
    "by_home_area_income['res_total']=by_home_area_income.sum(axis=1)\n",
    "by_work_area_field['emp_total']=by_work_area_field.sum(axis=1)"
   ]
  },
  {
   "cell_type": "code",
   "execution_count": 14,
   "metadata": {},
   "outputs": [],
   "source": [
    "by_home_area_income.to_csv('../outputs/by_home_area_income.csv')\n",
    "by_work_area_field.to_csv('../outputs/by_work_area_field.csv')"
   ]
  },
  {
   "cell_type": "markdown",
   "metadata": {},
   "source": [
    "## Join attributes to shape file"
   ]
  },
  {
   "cell_type": "code",
   "execution_count": 1,
   "metadata": {},
   "outputs": [],
   "source": [
    "import geopandas as gpd\n",
    "import pandas as pd"
   ]
  },
  {
   "cell_type": "code",
   "execution_count": 2,
   "metadata": {},
   "outputs": [],
   "source": [
    "by_home_area_income=pd.read_csv('../outputs/by_home_area_income.csv', index_col=0)\n",
    "by_work_area_field=pd.read_csv('../outputs/by_work_area_field.csv', index_col=0)"
   ]
  },
  {
   "cell_type": "code",
   "execution_count": 3,
   "metadata": {},
   "outputs": [],
   "source": [
    "population=gpd.read_file('../Data/GIS/Population/population_HCMC/population_shapefile/Population_Ward_Level.shp')"
   ]
  },
  {
   "cell_type": "markdown",
   "metadata": {},
   "source": [
    "### Convert the Ward codes to be consistent with the shapefile using the mapping"
   ]
  },
  {
   "cell_type": "code",
   "execution_count": 4,
   "metadata": {},
   "outputs": [],
   "source": [
    "code_mapping_df=pd.read_csv('../Data/GIS/Survey/ward_code_mapping.csv')"
   ]
  },
  {
   "cell_type": "code",
   "execution_count": 5,
   "metadata": {},
   "outputs": [
    {
     "data": {
      "text/plain": [
       "Com_ID\n",
       "26740    3\n",
       "27139    2\n",
       "27427    2\n",
       "27433    2\n",
       "26758    2\n",
       "        ..\n",
       "27031    1\n",
       "27037    1\n",
       "27043    1\n",
       "27049    1\n",
       "28168    1\n",
       "Length: 243, dtype: int64"
      ]
     },
     "execution_count": 5,
     "metadata": {},
     "output_type": "execute_result"
    }
   ],
   "source": [
    "code_mapping_df.groupby('Com_ID').size().sort_values(ascending=False)"
   ]
  },
  {
   "cell_type": "markdown",
   "metadata": {},
   "source": [
    "Some survey codes map to the same ward code"
   ]
  },
  {
   "cell_type": "code",
   "execution_count": 6,
   "metadata": {},
   "outputs": [],
   "source": [
    "code_mapping={row['Code_Zone']: row['Com_ID'] for ind, row in code_mapping_df.iterrows()}"
   ]
  },
  {
   "cell_type": "code",
   "execution_count": 7,
   "metadata": {},
   "outputs": [],
   "source": [
    "by_home_area_income['GEOID']=[str(code_mapping[i]) if i in code_mapping else -1 for i in by_home_area_income.index]\n",
    "by_work_area_field['GEOID']=[str(code_mapping[i]) if i in code_mapping else -1 for i in by_work_area_field.index]"
   ]
  },
  {
   "cell_type": "markdown",
   "metadata": {},
   "source": [
    "Aggregate the ones with the same ward code"
   ]
  },
  {
   "cell_type": "code",
   "execution_count": 8,
   "metadata": {},
   "outputs": [],
   "source": [
    "by_home_geoid_income=by_home_area_income.groupby('GEOID').sum()\n",
    "by_work_geoid_field=by_work_area_field.groupby('GEOID').sum()"
   ]
  },
  {
   "cell_type": "code",
   "execution_count": 9,
   "metadata": {},
   "outputs": [],
   "source": [
    "by_home_geoid_income=by_home_geoid_income.drop(-1)\n",
    "by_work_geoid_field=by_work_geoid_field.drop(-1)"
   ]
  },
  {
   "cell_type": "code",
   "execution_count": 10,
   "metadata": {},
   "outputs": [
    {
     "data": {
      "text/html": [
       "<div>\n",
       "<style scoped>\n",
       "    .dataframe tbody tr th:only-of-type {\n",
       "        vertical-align: middle;\n",
       "    }\n",
       "\n",
       "    .dataframe tbody tr th {\n",
       "        vertical-align: top;\n",
       "    }\n",
       "\n",
       "    .dataframe thead th {\n",
       "        text-align: right;\n",
       "    }\n",
       "</style>\n",
       "<table border=\"1\" class=\"dataframe\">\n",
       "  <thead>\n",
       "    <tr style=\"text-align: right;\">\n",
       "      <th></th>\n",
       "      <th>res_income_1</th>\n",
       "      <th>res_income_2</th>\n",
       "      <th>res_income_3</th>\n",
       "      <th>res_income_4</th>\n",
       "      <th>res_total</th>\n",
       "    </tr>\n",
       "    <tr>\n",
       "      <th>GEOID</th>\n",
       "      <th></th>\n",
       "      <th></th>\n",
       "      <th></th>\n",
       "      <th></th>\n",
       "      <th></th>\n",
       "    </tr>\n",
       "  </thead>\n",
       "  <tbody>\n",
       "    <tr>\n",
       "      <th>25741</th>\n",
       "      <td>8777.86</td>\n",
       "      <td>3403.66</td>\n",
       "      <td>4120.22</td>\n",
       "      <td>2328.82</td>\n",
       "      <td>18630.56</td>\n",
       "    </tr>\n",
       "    <tr>\n",
       "      <th>25744</th>\n",
       "      <td>15226.90</td>\n",
       "      <td>6986.46</td>\n",
       "      <td>8777.86</td>\n",
       "      <td>6269.90</td>\n",
       "      <td>37261.12</td>\n",
       "    </tr>\n",
       "    <tr>\n",
       "      <th>25759</th>\n",
       "      <td>2149.68</td>\n",
       "      <td>3045.38</td>\n",
       "      <td>2149.68</td>\n",
       "      <td>1612.26</td>\n",
       "      <td>8957.00</td>\n",
       "    </tr>\n",
       "    <tr>\n",
       "      <th>25765</th>\n",
       "      <td>9494.42</td>\n",
       "      <td>3403.66</td>\n",
       "      <td>3761.94</td>\n",
       "      <td>1970.54</td>\n",
       "      <td>18630.56</td>\n",
       "    </tr>\n",
       "    <tr>\n",
       "      <th>25942</th>\n",
       "      <td>27229.28</td>\n",
       "      <td>24542.18</td>\n",
       "      <td>19705.40</td>\n",
       "      <td>8777.86</td>\n",
       "      <td>80254.72</td>\n",
       "    </tr>\n",
       "    <tr>\n",
       "      <th>...</th>\n",
       "      <td>...</td>\n",
       "      <td>...</td>\n",
       "      <td>...</td>\n",
       "      <td>...</td>\n",
       "      <td>...</td>\n",
       "    </tr>\n",
       "    <tr>\n",
       "      <th>28027</th>\n",
       "      <td>6807.32</td>\n",
       "      <td>1612.26</td>\n",
       "      <td>179.14</td>\n",
       "      <td>358.28</td>\n",
       "      <td>8957.00</td>\n",
       "    </tr>\n",
       "    <tr>\n",
       "      <th>28111</th>\n",
       "      <td>15047.76</td>\n",
       "      <td>5195.06</td>\n",
       "      <td>5374.20</td>\n",
       "      <td>1253.98</td>\n",
       "      <td>26871.00</td>\n",
       "    </tr>\n",
       "    <tr>\n",
       "      <th>28159</th>\n",
       "      <td>8419.58</td>\n",
       "      <td>4120.22</td>\n",
       "      <td>4478.50</td>\n",
       "      <td>2328.82</td>\n",
       "      <td>19347.12</td>\n",
       "    </tr>\n",
       "    <tr>\n",
       "      <th>28162</th>\n",
       "      <td>12002.38</td>\n",
       "      <td>3045.38</td>\n",
       "      <td>3582.80</td>\n",
       "      <td>2328.82</td>\n",
       "      <td>20959.38</td>\n",
       "    </tr>\n",
       "    <tr>\n",
       "      <th>28168</th>\n",
       "      <td>5911.62</td>\n",
       "      <td>3045.38</td>\n",
       "      <td>1074.84</td>\n",
       "      <td>716.56</td>\n",
       "      <td>10748.40</td>\n",
       "    </tr>\n",
       "  </tbody>\n",
       "</table>\n",
       "<p>241 rows × 5 columns</p>\n",
       "</div>"
      ],
      "text/plain": [
       "       res_income_1  res_income_2  res_income_3  res_income_4  res_total\n",
       "GEOID                                                                   \n",
       "25741       8777.86       3403.66       4120.22       2328.82   18630.56\n",
       "25744      15226.90       6986.46       8777.86       6269.90   37261.12\n",
       "25759       2149.68       3045.38       2149.68       1612.26    8957.00\n",
       "25765       9494.42       3403.66       3761.94       1970.54   18630.56\n",
       "25942      27229.28      24542.18      19705.40       8777.86   80254.72\n",
       "...             ...           ...           ...           ...        ...\n",
       "28027       6807.32       1612.26        179.14        358.28    8957.00\n",
       "28111      15047.76       5195.06       5374.20       1253.98   26871.00\n",
       "28159       8419.58       4120.22       4478.50       2328.82   19347.12\n",
       "28162      12002.38       3045.38       3582.80       2328.82   20959.38\n",
       "28168       5911.62       3045.38       1074.84        716.56   10748.40\n",
       "\n",
       "[241 rows x 5 columns]"
      ]
     },
     "execution_count": 10,
     "metadata": {},
     "output_type": "execute_result"
    }
   ],
   "source": [
    "by_home_geoid_income"
   ]
  },
  {
   "cell_type": "code",
   "execution_count": 11,
   "metadata": {},
   "outputs": [],
   "source": [
    "population['GEOID']=population['Com_ID'].astype(str)"
   ]
  },
  {
   "cell_type": "code",
   "execution_count": 12,
   "metadata": {},
   "outputs": [],
   "source": [
    "population=population.set_index('GEOID')"
   ]
  },
  {
   "cell_type": "code",
   "execution_count": 13,
   "metadata": {},
   "outputs": [],
   "source": [
    "zones=population.merge(by_home_geoid_income, left_index=True, right_index=True, how='left')"
   ]
  },
  {
   "cell_type": "code",
   "execution_count": 14,
   "metadata": {},
   "outputs": [],
   "source": [
    "zones=zones.merge(by_work_geoid_field, left_index=True, right_index=True, how='left')"
   ]
  },
  {
   "cell_type": "code",
   "execution_count": 15,
   "metadata": {},
   "outputs": [],
   "source": [
    "centroids=zones['geometry'].centroid\n",
    "zones['x_centroid']=[c.x for c in centroids]\n",
    "zones['y_centroid']=[c.y for c in centroids]"
   ]
  },
  {
   "cell_type": "code",
   "execution_count": 16,
   "metadata": {},
   "outputs": [],
   "source": [
    "zones['sim_area']=zones['Dist_Name']=='District 4'\n",
    "zones['model_area']=True\n",
    "zones['reference_area']=zones['Dist_Name']=='District 4'"
   ]
  },
  {
   "cell_type": "code",
   "execution_count": 17,
   "metadata": {},
   "outputs": [],
   "source": [
    "zones=zones.rename(columns={'Shape_Area': 'area'})"
   ]
  },
  {
   "cell_type": "code",
   "execution_count": 18,
   "metadata": {},
   "outputs": [],
   "source": [
    "zones=zones.to_crs('EPSG:4326')"
   ]
  },
  {
   "cell_type": "code",
   "execution_count": 19,
   "metadata": {},
   "outputs": [
    {
     "data": {
      "text/plain": [
       "<AxesSubplot:>"
      ]
     },
     "execution_count": 19,
     "metadata": {},
     "output_type": "execute_result"
    },
    {
     "data": {
      "image/png": "[encoded data removed]",
      "text/plain": [
       "<Figure size 432x288 with 1 Axes>"
      ]
     },
     "metadata": {
      "needs_background": "light"
     },
     "output_type": "display_data"
    }
   ],
   "source": [
    "zones.plot(column='res_total')"
   ]
  },
  {
   "cell_type": "markdown",
   "metadata": {},
   "source": [
    "### TODO: estimate the attributes of the areas with no data"
   ]
  },
  {
   "cell_type": "code",
   "execution_count": 161,
   "metadata": {},
   "outputs": [],
   "source": [
    "zones.to_file('../outputs/zones.geojson', driver='GeoJSON')"
   ]
  },
  {
   "cell_type": "code",
   "execution_count": 21,
   "metadata": {},
   "outputs": [
    {
     "data": {
      "text/plain": [
       "Index(['Com_Name', 'Dist_Name', 'Com_ID', 'Dist_ID', 'Level', 'Pop_2009',\n",
       "       'Pop_2019', 'Den_2009', 'Den_2019', 'Shape_Leng', 'area', 'geometry',\n",
       "       'res_income_1', 'res_income_2', 'res_income_3', 'res_income_4',\n",
       "       'res_total', 'emp_naics_11', 'emp_naics_21', 'emp_naics_23',\n",
       "       'emp_naics_72', 'emp_naics_92', 'emp_naics_48-49', 'emp_naics_52',\n",
       "       'emp_naics_61', 'emp_naics_62', 'emp_naics_81', 'emp_total',\n",
       "       'x_centroid', 'y_centroid', 'sim_area', 'model_area', 'reference_area'],\n",
       "      dtype='object')"
      ]
     },
     "execution_count": 21,
     "metadata": {},
     "output_type": "execute_result"
    }
   ],
   "source": [
    "zones.columns"
   ]
  },
  {
   "cell_type": "markdown",
   "metadata": {},
   "source": [
    "# Create the simulated population file"
   ]
  },
  {
   "cell_type": "code",
   "execution_count": 20,
   "metadata": {},
   "outputs": [],
   "source": [
    "od=gpd.read_file('../Data/GIS/OD_2014/OD_Shapefile/2014_HIDS_OD_Matrix.shp')"
   ]
  },
  {
   "cell_type": "code",
   "execution_count": 22,
   "metadata": {},
   "outputs": [],
   "source": [
    "income_cols=[col for col in zones.columns if 'res_income' in col]\n",
    "naics_cols=[col for col in zones.columns if 'emp_naics' in col]"
   ]
  },
  {
   "cell_type": "code",
   "execution_count": 25,
   "metadata": {},
   "outputs": [
    {
     "data": {
      "text/plain": [
       "Start_Code                                                26734\n",
       "End_Code                                                  27274\n",
       "NumberFlow                                                    3\n",
       "Start_Ward                                        Tan Dinh Ward\n",
       "End_Ward                                                 Ward 5\n",
       "Start_Dist                                           District 1\n",
       "End_Dist                                             District 4\n",
       "Start_City                                     Ho Chi Minh City\n",
       "End_City                                       Ho Chi Minh City\n",
       "Shape_Len                                           3782.846933\n",
       "geometry      LINESTRING (684843.8518000003 1193564.16850000...\n",
       "Name: 0, dtype: object"
      ]
     },
     "execution_count": 25,
     "metadata": {},
     "output_type": "execute_result"
    }
   ],
   "source": [
    "row"
   ]
  },
  {
   "cell_type": "code",
   "execution_count": 35,
   "metadata": {},
   "outputs": [
    {
     "data": {
      "text/plain": [
       "3"
      ]
     },
     "execution_count": 35,
     "metadata": {},
     "output_type": "execute_result"
    }
   ],
   "source": [
    "row['NumberFlow']"
   ]
  },
  {
   "cell_type": "code",
   "execution_count": 36,
   "metadata": {},
   "outputs": [
    {
     "data": {
      "text/html": [
       "<div>\n",
       "<style scoped>\n",
       "    .dataframe tbody tr th:only-of-type {\n",
       "        vertical-align: middle;\n",
       "    }\n",
       "\n",
       "    .dataframe tbody tr th {\n",
       "        vertical-align: top;\n",
       "    }\n",
       "\n",
       "    .dataframe thead th {\n",
       "        text-align: right;\n",
       "    }\n",
       "</style>\n",
       "<table border=\"1\" class=\"dataframe\">\n",
       "  <thead>\n",
       "    <tr style=\"text-align: right;\">\n",
       "      <th></th>\n",
       "      <th>home_geoid</th>\n",
       "      <th>work_geoid</th>\n",
       "      <th>earnings</th>\n",
       "      <th>naics</th>\n",
       "    </tr>\n",
       "  </thead>\n",
       "  <tbody>\n",
       "    <tr>\n",
       "      <th>0</th>\n",
       "      <td>26734</td>\n",
       "      <td>27274</td>\n",
       "      <td>2</td>\n",
       "      <td>81</td>\n",
       "    </tr>\n",
       "    <tr>\n",
       "      <th>1</th>\n",
       "      <td>26734</td>\n",
       "      <td>27274</td>\n",
       "      <td>2</td>\n",
       "      <td>21</td>\n",
       "    </tr>\n",
       "    <tr>\n",
       "      <th>2</th>\n",
       "      <td>26734</td>\n",
       "      <td>27274</td>\n",
       "      <td>1</td>\n",
       "      <td>81</td>\n",
       "    </tr>\n",
       "    <tr>\n",
       "      <th>3</th>\n",
       "      <td>26734</td>\n",
       "      <td>27265</td>\n",
       "      <td>4</td>\n",
       "      <td>48-49</td>\n",
       "    </tr>\n",
       "    <tr>\n",
       "      <th>4</th>\n",
       "      <td>26734</td>\n",
       "      <td>27265</td>\n",
       "      <td>1</td>\n",
       "      <td>81</td>\n",
       "    </tr>\n",
       "    <tr>\n",
       "      <th>...</th>\n",
       "      <td>...</td>\n",
       "      <td>...</td>\n",
       "      <td>...</td>\n",
       "      <td>...</td>\n",
       "    </tr>\n",
       "    <tr>\n",
       "      <th>5170</th>\n",
       "      <td>27499</td>\n",
       "      <td>27277</td>\n",
       "      <td>3</td>\n",
       "      <td>81</td>\n",
       "    </tr>\n",
       "    <tr>\n",
       "      <th>5171</th>\n",
       "      <td>27664</td>\n",
       "      <td>27262</td>\n",
       "      <td>1</td>\n",
       "      <td>81</td>\n",
       "    </tr>\n",
       "    <tr>\n",
       "      <th>5172</th>\n",
       "      <td>27664</td>\n",
       "      <td>27256</td>\n",
       "      <td>1</td>\n",
       "      <td>62</td>\n",
       "    </tr>\n",
       "    <tr>\n",
       "      <th>5173</th>\n",
       "      <td>27664</td>\n",
       "      <td>27259</td>\n",
       "      <td>1</td>\n",
       "      <td>48-49</td>\n",
       "    </tr>\n",
       "    <tr>\n",
       "      <th>5174</th>\n",
       "      <td>27664</td>\n",
       "      <td>27259</td>\n",
       "      <td>1</td>\n",
       "      <td>21</td>\n",
       "    </tr>\n",
       "  </tbody>\n",
       "</table>\n",
       "<p>5175 rows × 4 columns</p>\n",
       "</div>"
      ],
      "text/plain": [
       "     home_geoid work_geoid earnings  naics\n",
       "0         26734      27274        2     81\n",
       "1         26734      27274        2     21\n",
       "2         26734      27274        1     81\n",
       "3         26734      27265        4  48-49\n",
       "4         26734      27265        1     81\n",
       "...         ...        ...      ...    ...\n",
       "5170      27499      27277        3     81\n",
       "5171      27664      27262        1     81\n",
       "5172      27664      27256        1     62\n",
       "5173      27664      27259        1  48-49\n",
       "5174      27664      27259        1     21\n",
       "\n",
       "[5175 rows x 4 columns]"
      ]
     },
     "execution_count": 36,
     "metadata": {},
     "output_type": "execute_result"
    }
   ],
   "source": [
    "import numpy as np\n",
    "simpop=[]\n",
    "for ind, row in od.iterrows():\n",
    "    if ((str(row['Start_Code']) in zones.index) and (str(row['End_Code']) in zones.index)):\n",
    "        sampled_income_cols=np.random.choice(income_cols, row['NumberFlow'],\n",
    "            p=[zones.loc[str(row['Start_Code']), col]/zones.loc[str(row['Start_Code']), 'res_total'] for col in income_cols])\n",
    "\n",
    "        sampled_naics_cols=np.random.choice(naics_cols, row['NumberFlow'],\n",
    "            p=[zones.loc[str(row['End_Code']), col]/zones.loc[str(row['End_Code']), 'emp_total'] for col in naics_cols])\n",
    "\n",
    "        for i in range(row['NumberFlow']):\n",
    "            income=sampled_income_cols[i].split('res_income_')[1]\n",
    "\n",
    "            naics=sampled_naics_cols[i].split('emp_naics_')[1]\n",
    "\n",
    "            simpop.append({'home_geoid': str(row['Start_Code']),\n",
    "                          'work_geoid': str(row['End_Code']),\n",
    "                          'earnings': income,\n",
    "                          'naics': naics})\n",
    "simpop_df=pd.DataFrame(simpop)\n",
    "simpop_df"
   ]
  },
  {
   "cell_type": "code",
   "execution_count": 37,
   "metadata": {},
   "outputs": [],
   "source": [
    "simpop_df.to_csv('../outputs/simpop.csv', index=False)"
   ]
  },
  {
   "cell_type": "code",
   "execution_count": null,
   "metadata": {},
   "outputs": [],
   "source": []
  }
 ],
 "metadata": {
  "kernelspec": {
   "display_name": "Python [conda env:gpd]",
   "language": "python",
   "name": "conda-env-gpd-py"
  },
  "language_info": {
   "codemirror_mode": {
    "name": "ipython",
    "version": 3
   },
   "file_extension": ".py",
   "mimetype": "text/x-python",
   "name": "python",
   "nbconvert_exporter": "python",
   "pygments_lexer": "ipython3",
   "version": "3.9.4"
  }
 },
 "nbformat": 4,
 "nbformat_minor": 4
}
